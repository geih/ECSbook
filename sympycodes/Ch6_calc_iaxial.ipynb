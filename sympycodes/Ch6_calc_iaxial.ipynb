{
 "cells": [
  {
   "cell_type": "markdown",
   "metadata": {},
   "source": [
    "# Analytical expressions for axial currents\n",
    "Some derivations supporting Ch.6"
   ]
  },
  {
   "cell_type": "code",
   "execution_count": 1,
   "metadata": {},
   "outputs": [],
   "source": [
    "# import modules\n",
    "from sympy import *"
   ]
  },
  {
   "cell_type": "code",
   "execution_count": 2,
   "metadata": {},
   "outputs": [],
   "source": [
    "# define symbols\n",
    "d_j, d_1, d_2, d_3, L_j, L_1, L_2, L_3, R_a, V_mcj, V_mc1, V_mc2, V_mc3 = \\\n",
    "    symbols('d_j d_1 d_2 d_3 L_j L_1 L_2 L_3 R_a V_mcj V_mc1 V_mc2 V_mv3')"
   ]
  },
  {
   "cell_type": "markdown",
   "metadata": {},
   "source": [
    "## axial currents in two-compartment model"
   ]
  },
  {
   "cell_type": "code",
   "execution_count": 3,
   "metadata": {},
   "outputs": [],
   "source": [
    "# total resistance along segment 1 and 2\n",
    "R_1 = 4 * R_a * L_1 / pi / d_1**2\n",
    "R_2 = 4 * R_a * L_2 / pi / d_2**2\n",
    "\n",
    "# potential at start point equal to center potential, compartment 1:\n",
    "V_mi1 = V_mc1\n",
    "# potential at end point, compartment 1:\n",
    "V_mf1 = (V_mc1 / R_1 / 2 + V_mc2 / R_2 / 2) / (1 / R_1 / 2 + 1 / R_2 / 2) \n",
    "# potential at start point, compartment 2:\n",
    "V_mi2 = V_mf1\n",
    "# potential at end point equal to center potential, compartment 2:\n",
    "V_mf2 = V_mc2\n",
    "\n",
    "# axial current of compartment 1 and 2\n",
    "I_a1 = - pi*d_1**2 / 4 / R_a / L_1 * (V_mi1 - V_mf1)\n",
    "I_a2 = - pi*d_2**2 / 4 / R_a / L_2 * (V_mi2 - V_mf2)\n",
    "\n",
    "# simplify \n",
    "I_a1 = I_a1.simplify()\n",
    "I_a2 = I_a2.simplify()"
   ]
  },
  {
   "cell_type": "code",
   "execution_count": 4,
   "metadata": {},
   "outputs": [
    {
     "data": {
      "text/plain": [
       "(pi*d_1**2*d_2**2*(-V_mc1 + V_mc2)/(4*R_a*(L_1*d_2**2 + L_2*d_1**2)),)"
      ]
     },
     "execution_count": 4,
     "metadata": {},
     "output_type": "execute_result"
    }
   ],
   "source": [
    "I_a1,"
   ]
  },
  {
   "cell_type": "code",
   "execution_count": 5,
   "metadata": {},
   "outputs": [
    {
     "data": {
      "text/latex": [
       "$\\displaystyle \\frac{\\pi d_{1}^{2} d_{2}^{2} \\left(- V_{mc1} + V_{mc2}\\right)}{4 R_{a} \\left(L_{1} d_{2}^{2} + L_{2} d_{1}^{2}\\right)}$"
      ],
      "text/plain": [
       "pi*d_1**2*d_2**2*(-V_mc1 + V_mc2)/(4*R_a*(L_1*d_2**2 + L_2*d_1**2))"
      ]
     },
     "execution_count": 5,
     "metadata": {},
     "output_type": "execute_result"
    }
   ],
   "source": [
    "I_a1"
   ]
  },
  {
   "cell_type": "code",
   "execution_count": 6,
   "metadata": {},
   "outputs": [
    {
     "data": {
      "text/latex": [
       "$\\displaystyle \\frac{\\pi d_{1}^{2} d_{2}^{2} \\left(- V_{mc1} + V_{mc2}\\right)}{4 R_{a} \\left(L_{1} d_{2}^{2} + L_{2} d_{1}^{2}\\right)}$"
      ],
      "text/plain": [
       "pi*d_1**2*d_2**2*(-V_mc1 + V_mc2)/(4*R_a*(L_1*d_2**2 + L_2*d_1**2))"
      ]
     },
     "execution_count": 6,
     "metadata": {},
     "output_type": "execute_result"
    }
   ],
   "source": [
    "I_a2"
   ]
  },
  {
   "cell_type": "code",
   "execution_count": 7,
   "metadata": {},
   "outputs": [
    {
     "data": {
      "text/plain": [
       "True"
      ]
     },
     "execution_count": 7,
     "metadata": {},
     "output_type": "execute_result"
    }
   ],
   "source": [
    "I_a1 == I_a2"
   ]
  },
  {
   "cell_type": "code",
   "execution_count": 8,
   "metadata": {},
   "outputs": [
    {
     "data": {
      "text/plain": [
       "'\\\\frac{\\\\pi d_{1}^{2} d_{2}^{2} \\\\left(- V_{mc1} + V_{mc2}\\\\right)}{4 R_{a} \\\\left(L_{1} d_{2}^{2} + L_{2} d_{1}^{2}\\\\right)}'"
      ]
     },
     "execution_count": 8,
     "metadata": {},
     "output_type": "execute_result"
    }
   ],
   "source": [
    "latex(I_a1)"
   ]
  },
  {
   "cell_type": "code",
   "execution_count": 9,
   "metadata": {},
   "outputs": [
    {
     "data": {
      "text/latex": [
       "$\\displaystyle \\left[\\begin{matrix}\\frac{\\pi d_{1}^{2} d_{2}^{2} \\left(- V_{mc1} + V_{mc2}\\right)}{4 R_{a} \\left(L_{1} d_{2}^{2} + L_{2} d_{1}^{2}\\right)}\\\\\\frac{\\pi d_{1}^{2} d_{2}^{2} \\left(- V_{mc1} + V_{mc2}\\right)}{4 R_{a} \\left(L_{1} d_{2}^{2} + L_{2} d_{1}^{2}\\right)}\\end{matrix}\\right]$"
      ],
      "text/plain": [
       "Matrix([\n",
       "[pi*d_1**2*d_2**2*(-V_mc1 + V_mc2)/(4*R_a*(L_1*d_2**2 + L_2*d_1**2))],\n",
       "[pi*d_1**2*d_2**2*(-V_mc1 + V_mc2)/(4*R_a*(L_1*d_2**2 + L_2*d_1**2))]])"
      ]
     },
     "execution_count": 9,
     "metadata": {},
     "output_type": "execute_result"
    }
   ],
   "source": [
    "# linear combination\n",
    "I_a = (- pi*d_1**2*d_2**2 / (4*R_a*(L_1*d_2**2 + L_2*d_1**2)) * Matrix([[1,-1], [1, -1]]) * Matrix([V_mc1, V_mc2]))\n",
    "I_a.simplify()\n",
    "I_a"
   ]
  },
  {
   "cell_type": "code",
   "execution_count": 10,
   "metadata": {},
   "outputs": [],
   "source": [
    "# display inverted form not possible: Matrix det == 0; not invertible.\n",
    "# A = (- pi*d_1**2*d_2**2 / (4*R_a*(L_1*d_2**2 + L_2*d_1**2)) * Matrix([[1,-1], [1, -1]])).inv()\n",
    "# A           "
   ]
  },
  {
   "cell_type": "markdown",
   "metadata": {},
   "source": [
    "## axial currents in 3-compartment model, no branches"
   ]
  },
  {
   "cell_type": "code",
   "execution_count": 11,
   "metadata": {},
   "outputs": [],
   "source": [
    "# total resistance along segment 1 and 2\n",
    "R_1 = 4 * R_a * L_1 / pi / d_1**2\n",
    "R_2 = 4 * R_a * L_2 / pi / d_2**2\n",
    "R_3 = 4 * R_a * L_3 / pi / d_3**2\n",
    "\n",
    "# potential at start point equal to center potential, compartment 1:\n",
    "V_mi1 = V_mc1\n",
    "# potential at end point, compartment 1:\n",
    "V_mf1 = (V_mc1 / R_1 / 2 + V_mc2 / R_2 / 2) / (1 / R_1 / 2 + 1 / R_2 / 2) \n",
    "# potential at start point, compartment 2:\n",
    "V_mi2 = V_mf1\n",
    "# potential at end point, compartment 2:\n",
    "V_mf2 = (V_mc2 / R_2 / 2 + V_mc3 / R_3 / 2) / (1 / R_2 / 2 + 1 / R_3 / 2) \n",
    "# potential at start point, compartment 3:\n",
    "V_mi3 = V_mf2\n",
    "# potential at end point equal to center potential, compartment 3:\n",
    "V_mf3 = V_mc3\n",
    "\n",
    "\n",
    "\n",
    "# axial current of compartment 1-3\n",
    "I_a1 = - pi*d_1**2 / 4 / R_a / L_1 * (V_mi1 - V_mf1)\n",
    "I_a2 = - pi*d_2**2 / 4 / R_a / L_2 * (V_mi2 - V_mf2)\n",
    "I_a3 = - pi*d_3**2 / 4 / R_a / L_3 * (V_mi3 - V_mf3)\n",
    "\n",
    "# simplify \n",
    "I_a1 = I_a1.simplify()\n",
    "I_a2 = I_a2.simplify()\n",
    "I_a3 = I_a3.simplify()"
   ]
  },
  {
   "cell_type": "code",
   "execution_count": 12,
   "metadata": {},
   "outputs": [
    {
     "data": {
      "text/latex": [
       "$\\displaystyle \\frac{\\pi d_{1}^{2} d_{2}^{2} \\left(- V_{mc1} + V_{mc2}\\right)}{4 R_{a} \\left(L_{1} d_{2}^{2} + L_{2} d_{1}^{2}\\right)}$"
      ],
      "text/plain": [
       "pi*d_1**2*d_2**2*(-V_mc1 + V_mc2)/(4*R_a*(L_1*d_2**2 + L_2*d_1**2))"
      ]
     },
     "execution_count": 12,
     "metadata": {},
     "output_type": "execute_result"
    }
   ],
   "source": [
    "I_a1"
   ]
  },
  {
   "cell_type": "code",
   "execution_count": 13,
   "metadata": {},
   "outputs": [
    {
     "data": {
      "text/latex": [
       "$\\displaystyle \\frac{\\pi d_{2}^{2} \\left(\\left(L_{1} d_{2}^{2} + L_{2} d_{1}^{2}\\right) \\left(L_{2} V_{mv3} d_{3}^{2} + L_{3} V_{mc2} d_{2}^{2}\\right) - \\left(L_{2} d_{3}^{2} + L_{3} d_{2}^{2}\\right) \\left(L_{1} V_{mc2} d_{2}^{2} + L_{2} V_{mc1} d_{1}^{2}\\right)\\right)}{4 L_{2} R_{a} \\left(L_{1} d_{2}^{2} + L_{2} d_{1}^{2}\\right) \\left(L_{2} d_{3}^{2} + L_{3} d_{2}^{2}\\right)}$"
      ],
      "text/plain": [
       "pi*d_2**2*((L_1*d_2**2 + L_2*d_1**2)*(L_2*V_mv3*d_3**2 + L_3*V_mc2*d_2**2) - (L_2*d_3**2 + L_3*d_2**2)*(L_1*V_mc2*d_2**2 + L_2*V_mc1*d_1**2))/(4*L_2*R_a*(L_1*d_2**2 + L_2*d_1**2)*(L_2*d_3**2 + L_3*d_2**2))"
      ]
     },
     "execution_count": 13,
     "metadata": {},
     "output_type": "execute_result"
    }
   ],
   "source": [
    "I_a2"
   ]
  },
  {
   "cell_type": "code",
   "execution_count": 14,
   "metadata": {},
   "outputs": [
    {
     "data": {
      "text/latex": [
       "$\\displaystyle \\frac{\\pi d_{2}^{2} d_{3}^{2} \\left(- V_{mc2} + V_{mv3}\\right)}{4 R_{a} \\left(L_{2} d_{3}^{2} + L_{3} d_{2}^{2}\\right)}$"
      ],
      "text/plain": [
       "pi*d_2**2*d_3**2*(-V_mc2 + V_mv3)/(4*R_a*(L_2*d_3**2 + L_3*d_2**2))"
      ]
     },
     "execution_count": 14,
     "metadata": {},
     "output_type": "execute_result"
    }
   ],
   "source": [
    "I_a3"
   ]
  },
  {
   "cell_type": "markdown",
   "metadata": {},
   "source": [
    "## axial currents in 3-compartment model, branch point"
   ]
  },
  {
   "cell_type": "code",
   "execution_count": 15,
   "metadata": {},
   "outputs": [],
   "source": [
    "# total resistance along segment 1 and 2\n",
    "R_1 = 4 * R_a * L_1 / pi / d_1**2\n",
    "R_2 = 4 * R_a * L_2 / pi / d_2**2\n",
    "R_3 = 4 * R_a * L_3 / pi / d_3**2\n",
    "\n",
    "# potential at start point equal to center potential, compartment 1:\n",
    "V_mi1 = V_mc1\n",
    "# potential at end point, compartment 1:\n",
    "V_mf1 = (V_mc1 / R_1 / 2 + V_mc2 / R_2 / 2 + V_mc3 / R_3 / 2) / (1 / R_1 / 2 + 1 / R_2 / 2 + 1 / R_3 / 2) \n",
    "# potential at start point, compartment 2:\n",
    "V_mi2 = V_mf1\n",
    "# potential at end point, compartment 2:\n",
    "V_mf2 = V_mc2\n",
    "# potential at start point, compartment 3:\n",
    "V_mi3 = V_mf1\n",
    "# potential at end point equal to center potential, compartment 3:\n",
    "V_mf3 = V_mc3\n",
    "\n",
    "\n",
    "# axial current of compartment 1-3\n",
    "I_a1 = - pi*d_1**2 / 4 / R_a / L_1 * (V_mi1 - V_mf1)\n",
    "I_a2 = - pi*d_2**2 / 4 / R_a / L_2 * (V_mi2 - V_mf2)\n",
    "I_a3 = - pi*d_3**2 / 4 / R_a / L_3 * (V_mi3 - V_mf3)\n",
    "\n",
    "# simplify \n",
    "I_a1 = I_a1.simplify()\n",
    "I_a2 = I_a2.simplify()\n",
    "I_a3 = I_a3.simplify()"
   ]
  },
  {
   "cell_type": "code",
   "execution_count": 16,
   "metadata": {},
   "outputs": [
    {
     "data": {
      "text/latex": [
       "$\\displaystyle \\frac{\\pi d_{1}^{2} \\left(- L_{2} V_{mc1} d_{3}^{2} + L_{2} V_{mv3} d_{3}^{2} - L_{3} V_{mc1} d_{2}^{2} + L_{3} V_{mc2} d_{2}^{2}\\right)}{4 R_{a} \\left(L_{1} L_{2} d_{3}^{2} + L_{1} L_{3} d_{2}^{2} + L_{2} L_{3} d_{1}^{2}\\right)}$"
      ],
      "text/plain": [
       "pi*d_1**2*(-L_2*V_mc1*d_3**2 + L_2*V_mv3*d_3**2 - L_3*V_mc1*d_2**2 + L_3*V_mc2*d_2**2)/(4*R_a*(L_1*L_2*d_3**2 + L_1*L_3*d_2**2 + L_2*L_3*d_1**2))"
      ]
     },
     "execution_count": 16,
     "metadata": {},
     "output_type": "execute_result"
    }
   ],
   "source": [
    "I_a1"
   ]
  },
  {
   "cell_type": "code",
   "execution_count": 17,
   "metadata": {},
   "outputs": [
    {
     "data": {
      "text/latex": [
       "$\\displaystyle \\frac{\\pi d_{2}^{2} \\left(L_{1} V_{mc2} d_{3}^{2} - L_{1} V_{mv3} d_{3}^{2} - L_{3} V_{mc1} d_{1}^{2} + L_{3} V_{mc2} d_{1}^{2}\\right)}{4 R_{a} \\left(L_{1} L_{2} d_{3}^{2} + L_{1} L_{3} d_{2}^{2} + L_{2} L_{3} d_{1}^{2}\\right)}$"
      ],
      "text/plain": [
       "pi*d_2**2*(L_1*V_mc2*d_3**2 - L_1*V_mv3*d_3**2 - L_3*V_mc1*d_1**2 + L_3*V_mc2*d_1**2)/(4*R_a*(L_1*L_2*d_3**2 + L_1*L_3*d_2**2 + L_2*L_3*d_1**2))"
      ]
     },
     "execution_count": 17,
     "metadata": {},
     "output_type": "execute_result"
    }
   ],
   "source": [
    "I_a2"
   ]
  },
  {
   "cell_type": "code",
   "execution_count": 18,
   "metadata": {},
   "outputs": [
    {
     "data": {
      "text/latex": [
       "$\\displaystyle \\frac{\\pi d_{3}^{2} \\left(- L_{1} V_{mc2} d_{2}^{2} + L_{1} V_{mv3} d_{2}^{2} - L_{2} V_{mc1} d_{1}^{2} + L_{2} V_{mv3} d_{1}^{2}\\right)}{4 R_{a} \\left(L_{1} L_{2} d_{3}^{2} + L_{1} L_{3} d_{2}^{2} + L_{2} L_{3} d_{1}^{2}\\right)}$"
      ],
      "text/plain": [
       "pi*d_3**2*(-L_1*V_mc2*d_2**2 + L_1*V_mv3*d_2**2 - L_2*V_mc1*d_1**2 + L_2*V_mv3*d_1**2)/(4*R_a*(L_1*L_2*d_3**2 + L_1*L_3*d_2**2 + L_2*L_3*d_1**2))"
      ]
     },
     "execution_count": 18,
     "metadata": {},
     "output_type": "execute_result"
    }
   ],
   "source": [
    "I_a3"
   ]
  },
  {
   "cell_type": "code",
   "execution_count": null,
   "metadata": {},
   "outputs": [],
   "source": []
  }
 ],
 "metadata": {
  "kernelspec": {
   "display_name": "Python 3",
   "language": "python",
   "name": "python3"
  },
  "language_info": {
   "codemirror_mode": {
    "name": "ipython",
    "version": 3
   },
   "file_extension": ".py",
   "mimetype": "text/x-python",
   "name": "python",
   "nbconvert_exporter": "python",
   "pygments_lexer": "ipython3",
   "version": "3.9.1"
  }
 },
 "nbformat": 4,
 "nbformat_minor": 4
}
